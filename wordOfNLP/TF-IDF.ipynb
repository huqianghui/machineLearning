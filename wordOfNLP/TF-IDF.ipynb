{
 "cells": [
  {
   "cell_type": "code",
   "execution_count": 1,
   "metadata": {},
   "outputs": [
    {
     "name": "stdout",
     "output_type": "stream",
     "text": [
      "[[0.         0.4736296  0.62276601 0.         0.         0.\n",
      "  0.62276601]\n",
      " [0.62276601 0.         0.         0.4736296  0.62276601 0.\n",
      "  0.        ]\n",
      " [0.         0.51785612 0.         0.51785612 0.         0.68091856\n",
      "  0.        ]]\n"
     ]
    }
   ],
   "source": [
    "from sklearn.feature_extraction.text import CountVectorizer  \n",
    "from sklearn.feature_extraction.text import TfidfTransformer\n",
    "\n",
    "tag_list = ['青年 吃货 唱歌',  \n",
    "            '少年 游戏 叛逆',  \n",
    "            '少年 吃货 足球'] \n",
    "\n",
    "vectorizer = CountVectorizer() #将文本中的词语转换为词频矩阵  \n",
    "X = vectorizer.fit_transform(tag_list) #计算个词语出现的次数\n",
    "\"\"\"\n",
    "word_dict = vectorizer.vocabulary_\n",
    "{'唱歌': 2, '吃货': 1, '青年': 6, '足球': 5, '叛逆': 0, '少年': 3, '游戏': 4}\n",
    "\"\"\"\n",
    "\n",
    "transformer = TfidfTransformer()  \n",
    "tfidf = transformer.fit_transform(X)  #将词频矩阵X统计成TF-IDF值  \n",
    "print(tfidf.toarray())"
   ]
  }
 ],
 "metadata": {
  "kernelspec": {
   "display_name": "Python 3",
   "language": "python",
   "name": "python3"
  },
  "language_info": {
   "codemirror_mode": {
    "name": "ipython",
    "version": 3
   },
   "file_extension": ".py",
   "mimetype": "text/x-python",
   "name": "python",
   "nbconvert_exporter": "python",
   "pygments_lexer": "ipython3",
   "version": "3.7.4"
  }
 },
 "nbformat": 4,
 "nbformat_minor": 4
}
