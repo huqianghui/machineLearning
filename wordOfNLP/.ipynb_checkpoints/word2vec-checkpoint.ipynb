{
 "cells": [
  {
   "cell_type": "code",
   "execution_count": 1,
   "metadata": {},
   "outputs": [],
   "source": [
    "import jieba\n",
    "import logging\n",
    "\n",
    "def jiebaProcess():\n",
    "\n",
    "    logging.basicConfig(format='%(asctime)s : %(levelname)s : %(message)s', level=logging.INFO)\n",
    "\n",
    "    jieba.load_userdict(\"userDict.txt\")\n",
    "    # load stopwords set\n",
    "    stopword_set = set()\n",
    "    with open('stopwords.txt','r', encoding='utf-8') as stopwords:\n",
    "        for stopword in stopwords:\n",
    "            stopword_set.add(stopword.strip('\\n'))\n",
    "\n",
    "    output = open('san_seg.txt', 'w', encoding='utf-8')\n",
    "    with open('san.txt', 'r', encoding='utf-8') as content :\n",
    "        for texts_num, line in enumerate(content):\n",
    "            line = line.strip('\\n')\n",
    "            words = jieba.cut(line, cut_all=False)\n",
    "            for word in words:\n",
    "                if word not in stopword_set:\n",
    "                    output.write(word + ' ')\n",
    "            output.write('\\n')\n",
    "\n",
    "            if (texts_num + 1) % 10000 == 0:\n",
    "                logging.info(\"已完成前 %d 行的斷詞\" % (texts_num + 1))\n",
    "    output.close()"
   ]
  },
  {
   "cell_type": "code",
   "execution_count": 2,
   "metadata": {},
   "outputs": [
    {
     "name": "stderr",
     "output_type": "stream",
     "text": [
      "Building prefix dict from the default dictionary ...\n",
      "2020-03-26 18:11:14,958 : DEBUG : Building prefix dict from the default dictionary ...\n",
      "Loading model from cache /var/folders/g3/6y25kfln6cd18_tq5k3ysly80000gn/T/jieba.cache\n",
      "2020-03-26 18:11:14,963 : DEBUG : Loading model from cache /var/folders/g3/6y25kfln6cd18_tq5k3ysly80000gn/T/jieba.cache\n",
      "Loading model cost 0.789 seconds.\n",
      "2020-03-26 18:11:15,751 : DEBUG : Loading model cost 0.789 seconds.\n",
      "Prefix dict has been built successfully.\n",
      "2020-03-26 18:11:15,752 : DEBUG : Prefix dict has been built successfully.\n"
     ]
    }
   ],
   "source": [
    "jiebaProcess()"
   ]
  },
  {
   "cell_type": "code",
   "execution_count": 3,
   "metadata": {},
   "outputs": [
    {
     "name": "stderr",
     "output_type": "stream",
     "text": [
      "2020-03-26 18:11:25,661 : WARNING : consider setting layer size to a multiple of 4 for greater performance\n",
      "2020-03-26 18:11:25,662 : INFO : collecting all words and their counts\n",
      "2020-03-26 18:11:25,663 : INFO : PROGRESS: at sentence #0, processed 0 words, keeping 0 word types\n",
      "2020-03-26 18:11:25,801 : INFO : collected 64431 word types from a corpus of 345175 raw words and 8105 sentences\n",
      "2020-03-26 18:11:25,802 : INFO : Loading a fresh vocabulary\n",
      "2020-03-26 18:11:25,844 : INFO : effective_min_count=5 retains 10440 unique words (16% of original 64431, drops 53991)\n",
      "2020-03-26 18:11:25,845 : INFO : effective_min_count=5 leaves 263221 word corpus (76% of original 345175, drops 81954)\n",
      "2020-03-26 18:11:25,883 : INFO : deleting the raw counts dictionary of 64431 items\n",
      "2020-03-26 18:11:25,886 : INFO : sample=0.001 downsamples 17 most-common words\n",
      "2020-03-26 18:11:25,887 : INFO : downsampling leaves estimated 232794 word corpus (88.4% of prior 263221)\n",
      "2020-03-26 18:11:25,908 : INFO : estimated required memory for 10440 words and 250 dimensions: 26100000 bytes\n",
      "2020-03-26 18:11:25,908 : INFO : resetting layer weights\n",
      "2020-03-26 18:11:28,135 : INFO : training model with 3 workers on 10440 vocabulary and 250 features, using sg=0 hs=0 sample=0.001 negative=5 window=5\n",
      "2020-03-26 18:11:28,397 : INFO : worker thread finished; awaiting finish of 2 more threads\n",
      "2020-03-26 18:11:28,405 : INFO : worker thread finished; awaiting finish of 1 more threads\n",
      "2020-03-26 18:11:28,406 : INFO : worker thread finished; awaiting finish of 0 more threads\n",
      "2020-03-26 18:11:28,406 : INFO : EPOCH - 1 : training on 345175 raw words (232737 effective words) took 0.3s, 867095 effective words/s\n",
      "2020-03-26 18:11:28,666 : INFO : worker thread finished; awaiting finish of 2 more threads\n",
      "2020-03-26 18:11:28,671 : INFO : worker thread finished; awaiting finish of 1 more threads\n",
      "2020-03-26 18:11:28,672 : INFO : worker thread finished; awaiting finish of 0 more threads\n",
      "2020-03-26 18:11:28,672 : INFO : EPOCH - 2 : training on 345175 raw words (232836 effective words) took 0.3s, 882191 effective words/s\n",
      "2020-03-26 18:11:28,940 : INFO : worker thread finished; awaiting finish of 2 more threads\n",
      "2020-03-26 18:11:28,946 : INFO : worker thread finished; awaiting finish of 1 more threads\n",
      "2020-03-26 18:11:28,949 : INFO : worker thread finished; awaiting finish of 0 more threads\n",
      "2020-03-26 18:11:28,950 : INFO : EPOCH - 3 : training on 345175 raw words (232783 effective words) took 0.3s, 846174 effective words/s\n",
      "2020-03-26 18:11:29,212 : INFO : worker thread finished; awaiting finish of 2 more threads\n",
      "2020-03-26 18:11:29,215 : INFO : worker thread finished; awaiting finish of 1 more threads\n",
      "2020-03-26 18:11:29,216 : INFO : worker thread finished; awaiting finish of 0 more threads\n",
      "2020-03-26 18:11:29,217 : INFO : EPOCH - 4 : training on 345175 raw words (232924 effective words) took 0.3s, 879258 effective words/s\n",
      "2020-03-26 18:11:29,522 : INFO : worker thread finished; awaiting finish of 2 more threads\n",
      "2020-03-26 18:11:29,526 : INFO : worker thread finished; awaiting finish of 1 more threads\n",
      "2020-03-26 18:11:29,529 : INFO : worker thread finished; awaiting finish of 0 more threads\n",
      "2020-03-26 18:11:29,529 : INFO : EPOCH - 5 : training on 345175 raw words (232616 effective words) took 0.3s, 749378 effective words/s\n",
      "2020-03-26 18:11:29,530 : INFO : training on a 1725875 raw words (1163896 effective words) took 1.4s, 835074 effective words/s\n",
      "2020-03-26 18:11:29,530 : INFO : saving Word2Vec object under word2vec.model, separately None\n",
      "2020-03-26 18:11:29,531 : INFO : not storing attribute vectors_norm\n",
      "2020-03-26 18:11:29,532 : INFO : not storing attribute cum_table\n",
      "2020-03-26 18:11:29,804 : INFO : saved word2vec.model\n"
     ]
    }
   ],
   "source": [
    "from gensim.models import word2vec\n",
    "\n",
    "def train():\n",
    "\n",
    "    logging.basicConfig(format='%(asctime)s : %(levelname)s : %(message)s', level=logging.INFO)\n",
    "    sentences = word2vec.LineSentence(\"san_seg.txt\")\n",
    "    model = word2vec.Word2Vec(sentences, size=250)\n",
    "\n",
    "    #保存模型，供日後使用\n",
    "    model.save(\"word2vec.model\")\n",
    "\n",
    "    #模型讀取方式\n",
    "    # model = word2vec.Word2Vec.load(\"your_model_name\")\n",
    "\n",
    "train()"
   ]
  },
  {
   "cell_type": "code",
   "execution_count": 4,
   "metadata": {},
   "outputs": [],
   "source": [
    "from gensim.models import word2vec\n",
    "from gensim import models\n",
    "import logging\n",
    "\n",
    "def demo():\n",
    "\tlogging.basicConfig(format='%(asctime)s : %(levelname)s : %(message)s', level=logging.INFO)\n",
    "\tmodel = models.Word2Vec.load('word2vec.model')\n",
    "\n",
    "\tprint(\"提供3种测试模式\\n\")\n",
    "\tprint(\"输入一个词，则去寻找前10个相似的词\")\n",
    "\tprint(\"输入两个词，计算两个词的相似度\")\n",
    "\tprint(\"输入三个词，则进行词类推\")\n",
    "\n",
    "\twhile True:\n",
    "\t\ttry:\n",
    "\t\t\tquery = input()\n",
    "\t\t\tq_list = query.split()\n",
    "\n",
    "\t\t\tif len(q_list) == 1:\n",
    "\t\t\t\tprint(\"相似词 10 排序\")\n",
    "\t\t\t\tres = model.most_similar(q_list[0],topn = 10)\n",
    "\t\t\t\tfor item in res:\n",
    "\t\t\t\t\tprint(item[0]+\",\"+str(item[1]))\n",
    "\n",
    "\t\t\telif len(q_list) == 2:\n",
    "\t\t\t\tprint(\"计算 Cosine 相似度\")\n",
    "\t\t\t\tres = model.similarity(q_list[0],q_list[1])\n",
    "\t\t\t\tprint(res)\n",
    "\t\t\telse:\n",
    "\t\t\t\tprint(\"%s之于%s，如%s之于\" % (q_list[0],q_list[2],q_list[1]))\n",
    "\t\t\t\tres = model.most_similar([q_list[0],q_list[1]], [q_list[2]], topn= 10)\n",
    "\t\t\t\tfor item in res:\n",
    "\t\t\t\t\tprint(item[0]+\",\"+str(item[1]))\n",
    "\t\t\tprint(\"----------------------------\")\n",
    "\t\texcept Exception as e:\n",
    "\t\t\tprint(repr(e))"
   ]
  },
  {
   "cell_type": "code",
   "execution_count": 5,
   "metadata": {},
   "outputs": [
    {
     "name": "stderr",
     "output_type": "stream",
     "text": [
      "2020-03-26 18:11:29,831 : INFO : loading Word2Vec object from word2vec.model\n",
      "2020-03-26 18:11:29,987 : INFO : loading wv recursively from word2vec.model.wv.* with mmap=None\n",
      "2020-03-26 18:11:29,988 : INFO : setting ignored attribute vectors_norm to None\n",
      "2020-03-26 18:11:29,989 : INFO : loading vocabulary recursively from word2vec.model.vocabulary.* with mmap=None\n",
      "2020-03-26 18:11:29,989 : INFO : loading trainables recursively from word2vec.model.trainables.* with mmap=None\n",
      "2020-03-26 18:11:29,990 : INFO : setting ignored attribute cum_table to None\n",
      "2020-03-26 18:11:29,990 : INFO : loaded word2vec.model\n"
     ]
    },
    {
     "name": "stdout",
     "output_type": "stream",
     "text": [
      "提供 3 種測試模式\n",
      "\n",
      "輸入一個詞，則去尋找前一百個該詞的相似詞\n",
      "輸入兩個詞，則去計算兩個詞的餘弦相似度\n",
      "輸入三個詞，進行類比推理\n"
     ]
    },
    {
     "name": "stdin",
     "output_type": "stream",
     "text": [
      " 刘备 玄德\n"
     ]
    },
    {
     "name": "stderr",
     "output_type": "stream",
     "text": [
      "/Users/huqianghui/opt/anaconda3/lib/python3.7/site-packages/ipykernel_launcher.py:27: DeprecationWarning: Call to deprecated `similarity` (Method will be removed in 4.0.0, use self.wv.similarity() instead).\n"
     ]
    },
    {
     "name": "stdout",
     "output_type": "stream",
     "text": [
      "計算 Cosine 相似度\n",
      "0.82928383\n",
      "----------------------------\n"
     ]
    },
    {
     "name": "stdin",
     "output_type": "stream",
     "text": [
      " 刘备 关羽\n"
     ]
    },
    {
     "name": "stdout",
     "output_type": "stream",
     "text": [
      "計算 Cosine 相似度\n",
      "0.9238098\n",
      "----------------------------\n"
     ]
    },
    {
     "name": "stdin",
     "output_type": "stream",
     "text": [
      " 刘备 刘玄德\n"
     ]
    },
    {
     "name": "stdout",
     "output_type": "stream",
     "text": [
      "計算 Cosine 相似度\n",
      "0.98622847\n",
      "----------------------------\n"
     ]
    },
    {
     "name": "stdin",
     "output_type": "stream",
     "text": [
      " 刘备 吕布\n"
     ]
    },
    {
     "name": "stdout",
     "output_type": "stream",
     "text": [
      "計算 Cosine 相似度\n",
      "0.93457425\n",
      "----------------------------\n"
     ]
    },
    {
     "name": "stdin",
     "output_type": "stream",
     "text": [
      " 刘备 张飞\n"
     ]
    },
    {
     "name": "stdout",
     "output_type": "stream",
     "text": [
      "計算 Cosine 相似度\n",
      "0.85849404\n",
      "----------------------------\n"
     ]
    },
    {
     "name": "stdin",
     "output_type": "stream",
     "text": [
      " 刘备 张翼德\n"
     ]
    },
    {
     "name": "stdout",
     "output_type": "stream",
     "text": [
      "計算 Cosine 相似度\n",
      "0.9781211\n",
      "----------------------------\n"
     ]
    },
    {
     "name": "stdin",
     "output_type": "stream",
     "text": [
      " 刘备 关羽 张飞\n"
     ]
    },
    {
     "name": "stderr",
     "output_type": "stream",
     "text": [
      "/Users/huqianghui/opt/anaconda3/lib/python3.7/site-packages/ipykernel_launcher.py:31: DeprecationWarning: Call to deprecated `most_similar` (Method will be removed in 4.0.0, use self.wv.most_similar() instead).\n",
      "2020-03-26 18:13:04,787 : INFO : precomputing L2-norms of word weight vectors\n"
     ]
    },
    {
     "name": "stdout",
     "output_type": "stream",
     "text": [
      "刘备之於张飞，如关羽之於\n",
      "至德,0.9957794547080994\n",
      "诗,0.9949091672897339\n",
      "论语,0.9941326379776001\n",
      "伏波,0.9937382936477661\n",
      "豆,0.9920167326927185\n",
      "万章,0.991886556148529\n",
      "佾,0.9915744066238403\n",
      "淑,0.9915298223495483\n",
      "杜工部,0.9915193319320679\n",
      "山积,0.9914535284042358\n",
      "谶,0.9913222789764404\n",
      "妖孽,0.9899559020996094\n",
      "此臣,0.9897105693817139\n",
      "大腿,0.989402711391449\n",
      "失语,0.98923659324646\n",
      "天下,0.9886627793312073\n",
      "恤,0.9884188175201416\n",
      "白起,0.9876751899719238\n",
      "高枕无忧,0.9875049591064453\n",
      "汉祀,0.9863878488540649\n",
      "国士,0.9862165451049805\n",
      "了解,0.9860734939575195\n",
      "34,0.9857348799705505\n",
      "南史,0.985482931137085\n",
      "鬼神,0.9853573441505432\n",
      "52,0.9853336811065674\n",
      "22,0.9849517345428467\n",
      "化为乌有,0.9848959445953369\n",
      "31,0.9848306179046631\n",
      "59,0.9846534729003906\n",
      "之光,0.9846454858779907\n",
      "一凤,0.9843083620071411\n",
      "35,0.9842377305030823\n",
      "百发百中,0.9840109944343567\n",
      "依样画葫芦,0.9839630126953125\n",
      "36,0.9835406541824341\n",
      "不足与谋,0.9834191203117371\n",
      "29,0.983330488204956\n",
      "90,0.9829216003417969\n",
      "国家,0.9829196333885193\n",
      "第三回,0.9829176664352417\n",
      "51,0.9827873110771179\n",
      "86,0.9827126264572144\n",
      "彭越,0.9825748205184937\n",
      "33,0.9825209975242615\n",
      "26,0.9823626279830933\n",
      "王霸之,0.9822102785110474\n",
      "长久,0.9821816086769104\n",
      "嵯峨,0.9814601540565491\n",
      "酥,0.9814329743385315\n",
      "无名氏,0.9814193248748779\n",
      "君子,0.9812445044517517\n",
      "犹如,0.9811793565750122\n",
      "48,0.9810740351676941\n",
      "手掌,0.9809320569038391\n",
      "沆瀣,0.9807290434837341\n",
      "24,0.9806004166603088\n",
      "勾结,0.9803144931793213\n",
      "泰伯,0.98026442527771\n",
      "27,0.9801790714263916\n",
      "司马迁,0.9801355600357056\n",
      "士大夫,0.9801300764083862\n",
      "礼乐,0.9800968170166016\n",
      "32,0.9800254106521606\n",
      "38,0.9799250364303589\n",
      "何足挂齿,0.9798624515533447\n",
      "第五十六回,0.9796948432922363\n",
      "盒,0.9794347286224365\n",
      "游说,0.979133129119873\n",
      "j,0.9790813326835632\n",
      "高祖,0.9789232015609741\n",
      "典出,0.9789025783538818\n",
      "鸿沟,0.9788045287132263\n",
      "孔子,0.9787803888320923\n",
      "汉,0.9787396192550659\n",
      "赤兔,0.9786254167556763\n",
      "昧爽,0.9785627126693726\n",
      "参见,0.9785293936729431\n",
      "67,0.9781973361968994\n",
      "布衣,0.9781901836395264\n",
      "死无葬身之地,0.9781404733657837\n",
      "遇到,0.9780750274658203\n",
      "23,0.9780024886131287\n",
      "世家,0.9779008030891418\n",
      "蹇,0.9774726629257202\n",
      "xi,0.9774318337440491\n",
      "此正,0.9774249792098999\n",
      "28,0.977414071559906\n",
      "平原君,0.977405309677124\n",
      "形容,0.9772407412528992\n",
      "东观汉,0.9772115349769592\n",
      "37,0.9770911335945129\n",
      "言词,0.9769986867904663\n",
      "y,0.9769721627235413\n",
      "武侯祠,0.9768890142440796\n",
      "99,0.9768369197845459\n",
      "53,0.9768149852752686\n",
      "汉书,0.9766981601715088\n",
      "r,0.9765981435775757\n",
      "公以,0.9765489101409912\n",
      "----------------------------\n"
     ]
    },
    {
     "name": "stdin",
     "output_type": "stream",
     "text": [
      " 吕布 刘备 赤兔\n"
     ]
    },
    {
     "name": "stdout",
     "output_type": "stream",
     "text": [
      "吕布之於赤兔，如刘备之於\n",
      "孔明,0.9955795407295227\n",
      "玄德,0.9935169219970703\n",
      "商议,0.984332799911499\n",
      "杀,0.9831920266151428\n",
      "二人,0.981138288974762\n",
      "曹操,0.9801359176635742\n",
      "张飞,0.9796204566955566\n",
      "输,0.9778841733932495\n",
      "郃,0.9776909947395325\n",
      "引兵,0.9757544994354248\n",
      "回,0.9755603075027466\n",
      "关公,0.9752167463302612\n",
      "赵云,0.9690914154052734\n",
      "仓亭,0.9686956405639648\n",
      "兵,0.9676176905632019\n",
      "寨,0.9666836261749268\n",
      "却说,0.9664342403411865\n",
      "遂,0.9661351442337036\n",
      "云长,0.9655877351760864\n",
      "差人来,0.9642164707183838\n",
      "遣兵,0.9639123678207397\n",
      "唤,0.9638204574584961\n",
      "邓贤寨,0.963697075843811\n",
      "蜀,0.9635934829711914\n",
      "玄德背,0.963096022605896\n",
      "攻拔,0.9630602598190308\n",
      "令,0.9615537524223328\n",
      "却,0.9614611864089966\n",
      "回本,0.9614293575286865\n",
      "卑衍,0.9613991975784302\n",
      "军,0.9612698554992676\n",
      "退,0.9612230658531189\n",
      "荆州,0.9604926109313965\n",
      "大叫,0.9600138068199158\n",
      "同归,0.9598917961120605\n",
      "魏兵,0.95567786693573\n",
      "黄忠,0.9539077877998352\n",
      "众将,0.9537435173988342\n",
      "作贺,0.9536398649215698\n",
      "走,0.9536003470420837\n",
      "随后,0.9534916281700134\n",
      "只,0.9531159996986389\n",
      "魏延,0.9516224265098572\n",
      "搦,0.9516112804412842\n",
      "夏侯渊,0.9510107040405273\n",
      "马岱,0.9507308006286621\n",
      "先锋,0.9494962096214294\n",
      "辽,0.9494489431381226\n",
      "夏侯惇,0.9493005275726318\n",
      "军马,0.9487059116363525\n",
      "刘焉,0.9485540390014648\n",
      "分解,0.9462697505950928\n",
      "自外,0.9461173415184021\n",
      "魏兵势,0.9457324743270874\n",
      "西凉州,0.945475697517395\n",
      "已,0.9448515772819519\n",
      "嵩,0.9447643160820007\n",
      "背后,0.9445867538452148\n",
      "曹洪,0.9442005157470703\n",
      "曹仁,0.9436677098274231\n",
      "阵上,0.9435637593269348\n",
      "喝退,0.9434835910797119\n",
      "急,0.9434782862663269\n",
      "周瑜,0.943429172039032\n",
      "帐,0.9432660341262817\n",
      "云长守,0.9421291351318359\n",
      "马超,0.9411423206329346\n",
      "接应,0.9408085346221924\n",
      "玄德留,0.9401692152023315\n",
      "军士,0.9401240348815918\n",
      "听,0.9393007755279541\n",
      "上马,0.9386714696884155\n",
      "戴陵,0.9385210871696472\n",
      "急止,0.9380976557731628\n",
      "柴桑郡,0.9380422830581665\n",
      "大败,0.9380263686180115\n",
      "具言前,0.9378870725631714\n",
      "曹仁大,0.9378557205200195\n",
      "推出,0.9365347623825073\n",
      "正,0.9361851215362549\n",
      "引军,0.9360815286636353\n",
      "请,0.9359873533248901\n",
      "赶来,0.9356687664985657\n",
      "先出,0.935617208480835\n",
      "玄德引,0.9354450106620789\n",
      "忽,0.9352326393127441\n",
      "高览,0.9349946975708008\n",
      "告退,0.9349583387374878\n",
      "无义之,0.934508740901947\n",
      "王平,0.934003472328186\n",
      "关索,0.9339789152145386\n",
      "忽人报,0.9338232278823853\n",
      "擒,0.9334121346473694\n",
      "东莱,0.9330908060073853\n",
      "受计,0.9326750636100769\n",
      "逃出,0.9323544502258301\n",
      "二日,0.9323254823684692\n",
      "引,0.9321644902229309\n",
      "步骘,0.9320845603942871\n",
      "来助,0.932083785533905\n",
      "----------------------------\n"
     ]
    },
    {
     "ename": "KeyboardInterrupt",
     "evalue": "",
     "output_type": "error",
     "traceback": [
      "\u001b[0;31m---------------------------------------------------------------------------\u001b[0m",
      "\u001b[0;31mKeyboardInterrupt\u001b[0m                         Traceback (most recent call last)",
      "\u001b[0;32m~/opt/anaconda3/lib/python3.7/site-packages/ipykernel/kernelbase.py\u001b[0m in \u001b[0;36m_input_request\u001b[0;34m(self, prompt, ident, parent, password)\u001b[0m\n\u001b[1;32m    884\u001b[0m             \u001b[0;32mtry\u001b[0m\u001b[0;34m:\u001b[0m\u001b[0;34m\u001b[0m\u001b[0;34m\u001b[0m\u001b[0m\n\u001b[0;32m--> 885\u001b[0;31m                 \u001b[0mident\u001b[0m\u001b[0;34m,\u001b[0m \u001b[0mreply\u001b[0m \u001b[0;34m=\u001b[0m \u001b[0mself\u001b[0m\u001b[0;34m.\u001b[0m\u001b[0msession\u001b[0m\u001b[0;34m.\u001b[0m\u001b[0mrecv\u001b[0m\u001b[0;34m(\u001b[0m\u001b[0mself\u001b[0m\u001b[0;34m.\u001b[0m\u001b[0mstdin_socket\u001b[0m\u001b[0;34m,\u001b[0m \u001b[0;36m0\u001b[0m\u001b[0;34m)\u001b[0m\u001b[0;34m\u001b[0m\u001b[0;34m\u001b[0m\u001b[0m\n\u001b[0m\u001b[1;32m    886\u001b[0m             \u001b[0;32mexcept\u001b[0m \u001b[0mException\u001b[0m\u001b[0;34m:\u001b[0m\u001b[0;34m\u001b[0m\u001b[0;34m\u001b[0m\u001b[0m\n",
      "\u001b[0;32m~/opt/anaconda3/lib/python3.7/site-packages/jupyter_client/session.py\u001b[0m in \u001b[0;36mrecv\u001b[0;34m(self, socket, mode, content, copy)\u001b[0m\n\u001b[1;32m    802\u001b[0m         \u001b[0;32mtry\u001b[0m\u001b[0;34m:\u001b[0m\u001b[0;34m\u001b[0m\u001b[0;34m\u001b[0m\u001b[0m\n\u001b[0;32m--> 803\u001b[0;31m             \u001b[0mmsg_list\u001b[0m \u001b[0;34m=\u001b[0m \u001b[0msocket\u001b[0m\u001b[0;34m.\u001b[0m\u001b[0mrecv_multipart\u001b[0m\u001b[0;34m(\u001b[0m\u001b[0mmode\u001b[0m\u001b[0;34m,\u001b[0m \u001b[0mcopy\u001b[0m\u001b[0;34m=\u001b[0m\u001b[0mcopy\u001b[0m\u001b[0;34m)\u001b[0m\u001b[0;34m\u001b[0m\u001b[0;34m\u001b[0m\u001b[0m\n\u001b[0m\u001b[1;32m    804\u001b[0m         \u001b[0;32mexcept\u001b[0m \u001b[0mzmq\u001b[0m\u001b[0;34m.\u001b[0m\u001b[0mZMQError\u001b[0m \u001b[0;32mas\u001b[0m \u001b[0me\u001b[0m\u001b[0;34m:\u001b[0m\u001b[0;34m\u001b[0m\u001b[0;34m\u001b[0m\u001b[0m\n",
      "\u001b[0;32m~/opt/anaconda3/lib/python3.7/site-packages/zmq/sugar/socket.py\u001b[0m in \u001b[0;36mrecv_multipart\u001b[0;34m(self, flags, copy, track)\u001b[0m\n\u001b[1;32m    474\u001b[0m         \"\"\"\n\u001b[0;32m--> 475\u001b[0;31m         \u001b[0mparts\u001b[0m \u001b[0;34m=\u001b[0m \u001b[0;34m[\u001b[0m\u001b[0mself\u001b[0m\u001b[0;34m.\u001b[0m\u001b[0mrecv\u001b[0m\u001b[0;34m(\u001b[0m\u001b[0mflags\u001b[0m\u001b[0;34m,\u001b[0m \u001b[0mcopy\u001b[0m\u001b[0;34m=\u001b[0m\u001b[0mcopy\u001b[0m\u001b[0;34m,\u001b[0m \u001b[0mtrack\u001b[0m\u001b[0;34m=\u001b[0m\u001b[0mtrack\u001b[0m\u001b[0;34m)\u001b[0m\u001b[0;34m]\u001b[0m\u001b[0;34m\u001b[0m\u001b[0;34m\u001b[0m\u001b[0m\n\u001b[0m\u001b[1;32m    476\u001b[0m         \u001b[0;31m# have first part already, only loop while more to receive\u001b[0m\u001b[0;34m\u001b[0m\u001b[0;34m\u001b[0m\u001b[0;34m\u001b[0m\u001b[0m\n",
      "\u001b[0;32mzmq/backend/cython/socket.pyx\u001b[0m in \u001b[0;36mzmq.backend.cython.socket.Socket.recv\u001b[0;34m()\u001b[0m\n",
      "\u001b[0;32mzmq/backend/cython/socket.pyx\u001b[0m in \u001b[0;36mzmq.backend.cython.socket.Socket.recv\u001b[0;34m()\u001b[0m\n",
      "\u001b[0;32mzmq/backend/cython/socket.pyx\u001b[0m in \u001b[0;36mzmq.backend.cython.socket._recv_copy\u001b[0;34m()\u001b[0m\n",
      "\u001b[0;32m~/opt/anaconda3/lib/python3.7/site-packages/zmq/backend/cython/checkrc.pxd\u001b[0m in \u001b[0;36mzmq.backend.cython.checkrc._check_rc\u001b[0;34m()\u001b[0m\n",
      "\u001b[0;31mKeyboardInterrupt\u001b[0m: ",
      "\nDuring handling of the above exception, another exception occurred:\n",
      "\u001b[0;31mKeyboardInterrupt\u001b[0m                         Traceback (most recent call last)",
      "\u001b[0;32m<ipython-input-5-0ac004a6afed>\u001b[0m in \u001b[0;36m<module>\u001b[0;34m\u001b[0m\n\u001b[0;32m----> 1\u001b[0;31m \u001b[0mdemo\u001b[0m\u001b[0;34m(\u001b[0m\u001b[0;34m)\u001b[0m\u001b[0;34m\u001b[0m\u001b[0;34m\u001b[0m\u001b[0m\n\u001b[0m",
      "\u001b[0;32m<ipython-input-4-cf1824620889>\u001b[0m in \u001b[0;36mdemo\u001b[0;34m()\u001b[0m\n\u001b[1;32m     14\u001b[0m         \u001b[0;32mwhile\u001b[0m \u001b[0;32mTrue\u001b[0m\u001b[0;34m:\u001b[0m\u001b[0;34m\u001b[0m\u001b[0;34m\u001b[0m\u001b[0m\n\u001b[1;32m     15\u001b[0m                 \u001b[0;32mtry\u001b[0m\u001b[0;34m:\u001b[0m\u001b[0;34m\u001b[0m\u001b[0;34m\u001b[0m\u001b[0m\n\u001b[0;32m---> 16\u001b[0;31m                         \u001b[0mquery\u001b[0m \u001b[0;34m=\u001b[0m \u001b[0minput\u001b[0m\u001b[0;34m(\u001b[0m\u001b[0;34m)\u001b[0m\u001b[0;34m\u001b[0m\u001b[0;34m\u001b[0m\u001b[0m\n\u001b[0m\u001b[1;32m     17\u001b[0m                         \u001b[0mq_list\u001b[0m \u001b[0;34m=\u001b[0m \u001b[0mquery\u001b[0m\u001b[0;34m.\u001b[0m\u001b[0msplit\u001b[0m\u001b[0;34m(\u001b[0m\u001b[0;34m)\u001b[0m\u001b[0;34m\u001b[0m\u001b[0;34m\u001b[0m\u001b[0m\n\u001b[1;32m     18\u001b[0m \u001b[0;34m\u001b[0m\u001b[0m\n",
      "\u001b[0;32m~/opt/anaconda3/lib/python3.7/site-packages/ipykernel/kernelbase.py\u001b[0m in \u001b[0;36mraw_input\u001b[0;34m(self, prompt)\u001b[0m\n\u001b[1;32m    858\u001b[0m             \u001b[0mself\u001b[0m\u001b[0;34m.\u001b[0m\u001b[0m_parent_ident\u001b[0m\u001b[0;34m,\u001b[0m\u001b[0;34m\u001b[0m\u001b[0;34m\u001b[0m\u001b[0m\n\u001b[1;32m    859\u001b[0m             \u001b[0mself\u001b[0m\u001b[0;34m.\u001b[0m\u001b[0m_parent_header\u001b[0m\u001b[0;34m,\u001b[0m\u001b[0;34m\u001b[0m\u001b[0;34m\u001b[0m\u001b[0m\n\u001b[0;32m--> 860\u001b[0;31m             \u001b[0mpassword\u001b[0m\u001b[0;34m=\u001b[0m\u001b[0;32mFalse\u001b[0m\u001b[0;34m,\u001b[0m\u001b[0;34m\u001b[0m\u001b[0;34m\u001b[0m\u001b[0m\n\u001b[0m\u001b[1;32m    861\u001b[0m         )\n\u001b[1;32m    862\u001b[0m \u001b[0;34m\u001b[0m\u001b[0m\n",
      "\u001b[0;32m~/opt/anaconda3/lib/python3.7/site-packages/ipykernel/kernelbase.py\u001b[0m in \u001b[0;36m_input_request\u001b[0;34m(self, prompt, ident, parent, password)\u001b[0m\n\u001b[1;32m    888\u001b[0m             \u001b[0;32mexcept\u001b[0m \u001b[0mKeyboardInterrupt\u001b[0m\u001b[0;34m:\u001b[0m\u001b[0;34m\u001b[0m\u001b[0;34m\u001b[0m\u001b[0m\n\u001b[1;32m    889\u001b[0m                 \u001b[0;31m# re-raise KeyboardInterrupt, to truncate traceback\u001b[0m\u001b[0;34m\u001b[0m\u001b[0;34m\u001b[0m\u001b[0;34m\u001b[0m\u001b[0m\n\u001b[0;32m--> 890\u001b[0;31m                 \u001b[0;32mraise\u001b[0m \u001b[0mKeyboardInterrupt\u001b[0m\u001b[0;34m\u001b[0m\u001b[0;34m\u001b[0m\u001b[0m\n\u001b[0m\u001b[1;32m    891\u001b[0m             \u001b[0;32melse\u001b[0m\u001b[0;34m:\u001b[0m\u001b[0;34m\u001b[0m\u001b[0;34m\u001b[0m\u001b[0m\n\u001b[1;32m    892\u001b[0m                 \u001b[0;32mbreak\u001b[0m\u001b[0;34m\u001b[0m\u001b[0;34m\u001b[0m\u001b[0m\n",
      "\u001b[0;31mKeyboardInterrupt\u001b[0m: "
     ]
    }
   ],
   "source": [
    "demo()"
   ]
  },
  {
   "cell_type": "code",
   "execution_count": null,
   "metadata": {},
   "outputs": [],
   "source": []
  }
 ],
 "metadata": {
  "kernelspec": {
   "display_name": "Python 3",
   "language": "python",
   "name": "python3"
  },
  "language_info": {
   "codemirror_mode": {
    "name": "ipython",
    "version": 3
   },
   "file_extension": ".py",
   "mimetype": "text/x-python",
   "name": "python",
   "nbconvert_exporter": "python",
   "pygments_lexer": "ipython3",
   "version": "3.7.4"
  }
 },
 "nbformat": 4,
 "nbformat_minor": 4
}
