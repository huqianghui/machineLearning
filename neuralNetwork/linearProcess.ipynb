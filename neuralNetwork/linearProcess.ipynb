{
 "cells": [
  {
   "cell_type": "code",
   "execution_count": 1,
   "metadata": {},
   "outputs": [],
   "source": [
    "import numpy as np\n",
    "import matplotlib. pyplot as plt\n",
    "\n",
    "plt.rcParams[\"figure.figsize\"]=(10.0, 8.0)\n",
    "plt.rcParams[\"image.interpolation\"] = \"nearest\"\n",
    "plt.rcParams[\"image.cmap\"] = \"gray\"\n",
    "\n",
    "np.random.seed(0)\n",
    "N=1000\n",
    "D=2\n",
    "K=3\n",
    "X = np.zeros((N*K, D))\n",
    "y=np.zeros(N*K,dtype=np.uint8)"
   ]
  },
  {
   "cell_type": "code",
   "execution_count": 2,
   "metadata": {},
   "outputs": [],
   "source": [
    "for j in range(K):\n",
    "  ix = range(N*j,N*(j+1))\n",
    "  r = np.linspace(0.0,1,N)\n",
    "  t = np.linspace(j*4,(j+1)*4, N) + np.random.randn(N) * 0.2\n",
    "  X[ix] = np.c_[r * np.sin(t), r * np.cos(t)]\n",
    "  y[ix] = j\n",
    "\n",
    "W = 0.01 * np.random.randn(D,K)\n",
    "b= np.zeros((1,K))"
   ]
  },
  {
   "cell_type": "code",
   "execution_count": 3,
   "metadata": {},
   "outputs": [
    {
     "name": "stdout",
     "output_type": "stream",
     "text": [
      "iteration 0 loss 1.0989017647958428\n",
      "iteration 100 loss 0.9454693002889141\n",
      "iteration 200 loss 0.9454692993818608\n",
      "iteration 300 loss 0.945469299381854\n",
      "iteration 400 loss 0.9454692993818539\n",
      "iteration 500 loss 0.945469299381854\n",
      "iteration 600 loss 0.9454692993818539\n",
      "iteration 700 loss 0.9454692993818539\n",
      "iteration 800 loss 0.9454692993818539\n",
      "iteration 900 loss 0.9454692993818539\n",
      "iteration 1000 loss 0.9454692993818539\n",
      "iteration 1100 loss 0.9454692993818539\n",
      "iteration 1200 loss 0.9454692993818539\n",
      "iteration 1300 loss 0.9454692993818539\n",
      "iteration 1400 loss 0.9454692993818539\n",
      "iteration 1500 loss 0.9454692993818539\n",
      "iteration 1600 loss 0.9454692993818539\n",
      "iteration 1700 loss 0.9454692993818539\n",
      "iteration 1800 loss 0.9454692993818539\n",
      "iteration 1900 loss 0.9454692993818539\n",
      "iteration 2000 loss 0.9454692993818539\n",
      "iteration 2100 loss 0.9454692993818539\n",
      "iteration 2200 loss 0.9454692993818539\n",
      "iteration 2300 loss 0.9454692993818539\n",
      "iteration 2400 loss 0.9454692993818539\n",
      "iteration 2500 loss 0.9454692993818539\n",
      "iteration 2600 loss 0.9454692993818539\n",
      "iteration 2700 loss 0.9454692993818539\n",
      "iteration 2800 loss 0.9454692993818539\n",
      "iteration 2900 loss 0.9454692993818539\n",
      "training accuracy: 0.5193333333333333\n"
     ]
    },
    {
     "data": {
      "image/png": "[encoded data removed]",
      "text/plain": [
       "<Figure size 432x288 with 1 Axes>"
      ]
     },
     "metadata": {
      "needs_background": "light"
     },
     "output_type": "display_data"
    }
   ],
   "source": [
    "import math\n",
    "\n",
    "step_size = 1\n",
    "reg=math.exp(-3)\n",
    "\n",
    "num_examples = X.shape[0]\n",
    "\n",
    "for i in range(3000):\n",
    "  scores = np.dot(X, W) + b\n",
    "  exp_scores = np.exp(scores)\n",
    "  probs = exp_scores/np.sum(exp_scores,axis=1, keepdims=True)\n",
    "  corect_logprobs = -np.log(probs[range(num_examples), y])\n",
    "  data_loss = np.sum(corect_logprobs)/num_examples\n",
    "  reg_loss = 0.5 * reg * np.sum(W*W)\n",
    "  loss = data_loss + reg_loss\n",
    "  if i % 100 == 0:\n",
    "    print(\"iteration {} loss {}\".format(i,loss))\n",
    "  \n",
    "  dscores = probs\n",
    "  dscores[range(num_examples),y] -= 1\n",
    "  dscores /= num_examples\n",
    "\n",
    "  dW = np.dot(X.T,dscores)\n",
    "  db = np.sum(dscores,axis=0,keepdims=True)\n",
    "\n",
    "  dW +=reg * W\n",
    "\n",
    "  W += -step_size * dW\n",
    "  b += -step_size * db\n",
    "  scores = np.dot(X,W) + b\n",
    "\n",
    "predicted_class = np.argmax(scores,axis=1)\n",
    "print(\"training accuracy: {}\".format(np.mean(predicted_class == y)))\n",
    "\n",
    "h=0.02\n",
    "x_min,x_max = X[:,0].min()-1,X[:,0].max() +1\n",
    "y_min,y_max = X[:,1].min()-1,X[:,1].max() +1\n",
    "xx,yy = np.meshgrid(np.arange(x_min,x_max,h),np.arange(y_min,y_max,h))\n",
    "\n",
    "Z = np.dot(np.c_[xx.ravel(),yy.ravel()],W) + b\n",
    "Z = np.argmax(Z,axis=1)\n",
    "Z = Z.reshape(xx.shape)\n",
    "fig = plt.figure()\n",
    "\n",
    "plt.contourf(xx,yy,Z,cmap=plt.cm.Spectral,alpha=0.8)\n",
    "plt.scatter(X[:,0],X[:,1],c=y,s=40,cmap=plt.cm.Spectral)\n",
    "plt.xlim(xx.min(),xx.max())\n",
    "plt.ylim(yy.min(),yy.max())\n",
    "\n",
    "plt.show()"
   ]
  },
  {
   "cell_type": "code",
   "execution_count": null,
   "metadata": {},
   "outputs": [],
   "source": []
  }
 ],
 "metadata": {
  "kernelspec": {
   "display_name": "Python 3",
   "language": "python",
   "name": "python3"
  },
  "language_info": {
   "codemirror_mode": {
    "name": "ipython",
    "version": 3
   },
   "file_extension": ".py",
   "mimetype": "text/x-python",
   "name": "python",
   "nbconvert_exporter": "python",
   "pygments_lexer": "ipython3",
   "version": "3.7.4"
  }
 },
 "nbformat": 4,
 "nbformat_minor": 4
}
