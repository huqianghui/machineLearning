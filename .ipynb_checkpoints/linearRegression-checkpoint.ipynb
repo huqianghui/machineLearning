{
 "cells": [
  {
   "cell_type": "code",
   "execution_count": 4,
   "metadata": {},
   "outputs": [],
   "source": [
    "import matplotlib.pyplot as plt \n",
    "import numpy as np\n",
    "from sklearn import datasets\n",
    "\n",
    "#help(np.insert)"
   ]
  },
  {
   "cell_type": "code",
   "execution_count": 22,
   "metadata": {},
   "outputs": [],
   "source": [
    "class LinearRegresssion():\n",
    "    def __init__(self):\n",
    "        # w便是模型的一组参数，与给予的变量进行矩阵乘，得到最后的预测值\n",
    "        self.w = None\n",
    "    \n",
    "    def fit(self,X,y):\n",
    "        # 通过给行的一组训练数据，与标签值，通过下面的公式，得到线性回归的一组参数值，从而得到线性回归模型\n",
    "        # 在X矩阵里面增加1，作为常数向列，可以把权重项与变量项进行矩阵计算 y= 1 + 2x + 3z => [1,2,3] * [1\n",
    "        #                                                                                    x\n",
    "        #                                                                                    z]\n",
    "        X = np.insert(X, 0, 1, axis=1)\n",
    "        # 推导公式：(X[T] * X )-1次方 然后 x「T」* y\n",
    "        X_ = np.linalg.inv(X.T.dot(X))\n",
    "        # 通过据运算，参数的矩阵值如linearRegression.png显示\n",
    "        self.w = X_.dot(X.T).dot(y)\n",
    "    \n",
    "    def predict(self,X):\n",
    "        # 同理，给预测值进行，常量向补齐\n",
    "        X = np.insert(X,0,1,axis=1)\n",
    "        y_pred = X.dot(self.w)\n",
    "        return y_pred"
   ]
  },
  {
   "cell_type": "code",
   "execution_count": 29,
   "metadata": {},
   "outputs": [],
   "source": [
    "def mean_squred_error(y_true,y_pred):\n",
    "    mse= np.mean(np.power(y_true - y_pred,2))\n",
    "    return mse"
   ]
  },
  {
   "cell_type": "code",
   "execution_count": 30,
   "metadata": {},
   "outputs": [],
   "source": [
    "def main():\n",
    "    # load data\n",
    "    diabetes = datasets.load_diabetes()\n",
    "    # use only one future\n",
    "    X = diabetes.data[:,np.newaxis,2]\n",
    "    X_train,X_test = X[:-20], X[-20:]\n",
    "    \n",
    "    y_train,y_test = diabetes.target[:-20],diabetes.target[-20:]\n",
    "    \n",
    "    linearRegression = LinearRegresssion()\n",
    "    linearRegression.fit(X_train,y_train)\n",
    "    \n",
    "    y_pred = linearRegression.predict(X_test)\n",
    "    \n",
    "    test_mse = mean_squred_error(y_test,y_pred)\n",
    "    print(\"模型的误差平方差：{}\".format(test_mse))\n",
    "    \n",
    "    plt.scatter(X_test[:,0],y_test,color=\"black\")\n",
    "    \n",
    "    plt.plot(X_test[:,0],y_pred,color=\"blue\")\n",
    "    \n",
    "    plt.show()"
   ]
  },
  {
   "cell_type": "code",
   "execution_count": 31,
   "metadata": {},
   "outputs": [
    {
     "name": "stdout",
     "output_type": "stream",
     "text": [
      "模型的误差平方差：2548.0723987259707\n"
     ]
    },
    {
     "data": {
      "image/png": "[encoded data removed]",
      "text/plain": [
       "<Figure size 432x288 with 1 Axes>"
      ]
     },
     "metadata": {
      "needs_background": "light"
     },
     "output_type": "display_data"
    }
   ],
   "source": [
    "main()"
   ]
  }
 ],
 "metadata": {
  "kernelspec": {
   "display_name": "Python 3",
   "language": "python",
   "name": "python3"
  },
  "language_info": {
   "codemirror_mode": {
    "name": "ipython",
    "version": 3
   },
   "file_extension": ".py",
   "mimetype": "text/x-python",
   "name": "python",
   "nbconvert_exporter": "python",
   "pygments_lexer": "ipython3",
   "version": "3.7.4"
  }
 },
 "nbformat": 4,
 "nbformat_minor": 4
}
