{
 "cells": [
  {
   "cell_type": "code",
   "execution_count": 4,
   "metadata": {},
   "outputs": [
    {
     "name": "stdout",
     "output_type": "stream",
     "text": [
      "高斯朴素贝叶斯，样本总数： 150 错误样本数 : 6\n"
     ]
    }
   ],
   "source": [
    "from sklearn import datasets\n",
    "iris = datasets.load_iris()\n",
    "\n",
    "from sklearn.naive_bayes import GaussianNB\n",
    "clf = GaussianNB()\n",
    "clf = clf.fit(iris.data, iris.target)\n",
    "y_pred=clf.predict(iris.data)\n",
    "print(\"高斯朴素贝叶斯，样本总数： %d 错误样本数 : %d\" % (iris.data.shape[0],(iris.target != y_pred).sum()))"
   ]
  },
  {
   "cell_type": "code",
   "execution_count": null,
   "metadata": {},
   "outputs": [],
   "source": []
  },
  {
   "cell_type": "code",
   "execution_count": 7,
   "metadata": {},
   "outputs": [
    {
     "name": "stdout",
     "output_type": "stream",
     "text": [
      "              precision    recall  f1-score   support\n",
      "\n",
      "           0       1.00      1.00      1.00        50\n",
      "           1       0.94      0.92      0.93        50\n",
      "           2       0.92      0.94      0.93        50\n",
      "\n",
      "    accuracy                           0.95       150\n",
      "   macro avg       0.95      0.95      0.95       150\n",
      "weighted avg       0.95      0.95      0.95       150\n",
      "\n",
      "[[50  0  0]\n",
      " [ 0 46  4]\n",
      " [ 0  3 47]]\n",
      "多项分布朴素贝叶斯，样本总数： 150 错误样本数 : 7\n"
     ]
    }
   ],
   "source": [
    "from sklearn.naive_bayes import MultinomialNB\n",
    "clf = MultinomialNB(alpha=1.0, fit_prior=True, class_prior=None)\n",
    "#help(MultinomialNB())\n",
    "clf = clf.fit(iris.data, iris.target)\n",
    "y_pred=clf.predict(iris.data)\n",
    "from sklearn import metrics\n",
    "print(metrics.classification_report(iris.target, y_pred))\n",
    "print(metrics.confusion_matrix(iris.target, y_pred))\n",
    "print(\"多项分布朴素贝叶斯，样本总数： %d 错误样本数 : %d\" % (iris.data.shape[0],(iris.target != y_pred).sum()))"
   ]
  }
 ],
 "metadata": {
  "kernelspec": {
   "display_name": "Python 3",
   "language": "python",
   "name": "python3"
  },
  "language_info": {
   "codemirror_mode": {
    "name": "ipython",
    "version": 3
   },
   "file_extension": ".py",
   "mimetype": "text/x-python",
   "name": "python",
   "nbconvert_exporter": "python",
   "pygments_lexer": "ipython3",
   "version": "3.7.4"
  }
 },
 "nbformat": 4,
 "nbformat_minor": 4
}
