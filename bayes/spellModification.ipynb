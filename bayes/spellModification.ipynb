{
 "cells": [
  {
   "cell_type": "code",
   "execution_count": 5,
   "metadata": {},
   "outputs": [],
   "source": [
    "import re\n",
    "import collections\n",
    "\n",
    "def words(text):\n",
    "    return re.findall('[a-z]+',text.lower())\n",
    "\n",
    "def train(features):\n",
    "    model = collections.defaultdict(lambda:1)\n",
    "    for f in features:\n",
    "        model[f] +=1\n",
    "    return model\n",
    "\n",
    "staticWords = train(words(open(\"big.txt\").read()))"
   ]
  },
  {
   "cell_type": "code",
   "execution_count": 17,
   "metadata": {},
   "outputs": [],
   "source": [
    "import string\n",
    "alphabet = string.ascii_lowercase\n",
    "\n",
    "def edit1(word):\n",
    "    n = len(word)\n",
    "    # 使用列表解析，实现简短语句\n",
    "    return set( [word[0:i] + word[i+1:] for i in range(n)] + # 删除一个字母\n",
    "                [word[0:i] + word[i+1] + word[i] + word[i+2:] for i in range(n-1)] + # 交换一个字母位置\n",
    "                [word[0:i] + c + word[i+1:] for i in range(n) for c in alphabet] + # 替换一个字母\n",
    "                [word[0:i] + c + word[i:] for i in range(n+1) for c in alphabet]) # 插入一个字母 \n",
    "\n",
    "def edit2(word):\n",
    "    return set(etl2  for et1 in edit1(word) for etl2 in edit1(el1))"
   ]
  },
  {
   "cell_type": "code",
   "execution_count": 30,
   "metadata": {},
   "outputs": [],
   "source": [
    "def knowWords(words):\n",
    "    return set(w for w in words if w in staticWords)\n",
    "\n",
    "def correctWord(word):\n",
    "    candicates =  knowWords([word]) or knowWords(edit1(word)) or knowWords(edit2(word)) or [word]\n",
    "    return max(candicates,key = lambda w:staticWords[w])"
   ]
  },
  {
   "cell_type": "code",
   "execution_count": 34,
   "metadata": {},
   "outputs": [
    {
     "data": {
      "text/plain": [
       "'much'"
      ]
     },
     "execution_count": 34,
     "metadata": {},
     "output_type": "execute_result"
    }
   ],
   "source": [
    "correctWord('muchi')"
   ]
  }
 ],
 "metadata": {
  "kernelspec": {
   "display_name": "Python 3",
   "language": "python",
   "name": "python3"
  },
  "language_info": {
   "codemirror_mode": {
    "name": "ipython",
    "version": 3
   },
   "file_extension": ".py",
   "mimetype": "text/x-python",
   "name": "python",
   "nbconvert_exporter": "python",
   "pygments_lexer": "ipython3",
   "version": "3.7.4"
  }
 },
 "nbformat": 4,
 "nbformat_minor": 4
}
